{
 "cells": [
  {
   "cell_type": "code",
   "execution_count": 71,
   "id": "3e11e7c5",
   "metadata": {},
   "outputs": [],
   "source": [
    "#importing required libraries\n",
    "import numpy as np\n",
    "import pandas as pd\n",
    "import tensorflow as tf\n",
    "import nltk\n",
    "from nltk.corpus import stopwords\n",
    "from nltk.tokenize import word_tokenize\n",
    "from nltk.stem import WordNetLemmatizer\n",
    "import string\n",
    "import matplotlib.pyplot as plt\n",
    "import seaborn as sns\n",
    "from sklearn.feature_extraction.text import TfidfVectorizer\n",
    "from sklearn.model_selection import train_test_split\n",
    "from sklearn.naive_bayes import MultinomialNB\n",
    "from sklearn.svm import SVC\n",
    "from sklearn.metrics import accuracy_score, precision_score, recall_score, f1_score\n",
    "from keras.preprocessing.text import Tokenizer\n",
    "from keras.preprocessing.sequence import pad_sequences\n",
    "from keras.models import Sequential\n",
    "from keras.layers import Embedding, LSTM, Dense\n",
    "from sklearn.preprocessing import LabelEncoder\n",
    "from sklearn.model_selection import GridSearchCV\n",
    "from sklearn.pipeline import make_pipeline\n",
    "from sklearn.model_selection import cross_val_score, StratifiedKFold\n",
    "from lime import lime_text\n",
    "from lime.lime_text import LimeTextExplainer\n",
    "from scipy.sparse import issparse\n",
    "from sklearn.metrics import confusion_matrix, classification_report\n",
    "from sklearn.metrics import precision_recall_curve, roc_curve, auc , roc_auc_score\n",
    "from sklearn.linear_model import LogisticRegression\n",
    "from sklearn.preprocessing import label_binarize\n"
   ]
  },
  {
   "cell_type": "markdown",
   "id": "94b9e22f",
   "metadata": {},
   "source": [
    "## 1.Data Exploration:"
   ]
  },
  {
   "cell_type": "markdown",
   "id": "9a783e70",
   "metadata": {},
   "source": [
    "#### understanding the structure"
   ]
  },
  {
   "cell_type": "code",
   "execution_count": 3,
   "id": "5991a1f4",
   "metadata": {},
   "outputs": [],
   "source": [
    "#loading the csv file\n",
    "data = pd.read_csv(\"C:\\\\Users\\\\mdipa\\\\Downloads\\\\test.csv\", encoding='latin-1')"
   ]
  },
  {
   "cell_type": "code",
   "execution_count": 4,
   "id": "895a1277",
   "metadata": {},
   "outputs": [
    {
     "data": {
      "text/html": [
       "<div>\n",
       "<style scoped>\n",
       "    .dataframe tbody tr th:only-of-type {\n",
       "        vertical-align: middle;\n",
       "    }\n",
       "\n",
       "    .dataframe tbody tr th {\n",
       "        vertical-align: top;\n",
       "    }\n",
       "\n",
       "    .dataframe thead th {\n",
       "        text-align: right;\n",
       "    }\n",
       "</style>\n",
       "<table border=\"1\" class=\"dataframe\">\n",
       "  <thead>\n",
       "    <tr style=\"text-align: right;\">\n",
       "      <th></th>\n",
       "      <th>textID</th>\n",
       "      <th>text</th>\n",
       "      <th>sentiment</th>\n",
       "      <th>Time of Tweet</th>\n",
       "      <th>Age of User</th>\n",
       "      <th>Country</th>\n",
       "      <th>Population -2020</th>\n",
       "      <th>Land Area (Km²)</th>\n",
       "      <th>Density (P/Km²)</th>\n",
       "    </tr>\n",
       "  </thead>\n",
       "  <tbody>\n",
       "    <tr>\n",
       "      <th>0</th>\n",
       "      <td>f87dea47db</td>\n",
       "      <td>Last session of the day  http://twitpic.com/67ezh</td>\n",
       "      <td>neutral</td>\n",
       "      <td>morning</td>\n",
       "      <td>0-20</td>\n",
       "      <td>Afghanistan</td>\n",
       "      <td>38928346.0</td>\n",
       "      <td>652860.0</td>\n",
       "      <td>60.0</td>\n",
       "    </tr>\n",
       "    <tr>\n",
       "      <th>1</th>\n",
       "      <td>96d74cb729</td>\n",
       "      <td>Shanghai is also really exciting (precisely -...</td>\n",
       "      <td>positive</td>\n",
       "      <td>noon</td>\n",
       "      <td>21-30</td>\n",
       "      <td>Albania</td>\n",
       "      <td>2877797.0</td>\n",
       "      <td>27400.0</td>\n",
       "      <td>105.0</td>\n",
       "    </tr>\n",
       "    <tr>\n",
       "      <th>2</th>\n",
       "      <td>eee518ae67</td>\n",
       "      <td>Recession hit Veronique Branquinho, she has to...</td>\n",
       "      <td>negative</td>\n",
       "      <td>night</td>\n",
       "      <td>31-45</td>\n",
       "      <td>Algeria</td>\n",
       "      <td>43851044.0</td>\n",
       "      <td>2381740.0</td>\n",
       "      <td>18.0</td>\n",
       "    </tr>\n",
       "    <tr>\n",
       "      <th>3</th>\n",
       "      <td>01082688c6</td>\n",
       "      <td>happy bday!</td>\n",
       "      <td>positive</td>\n",
       "      <td>morning</td>\n",
       "      <td>46-60</td>\n",
       "      <td>Andorra</td>\n",
       "      <td>77265.0</td>\n",
       "      <td>470.0</td>\n",
       "      <td>164.0</td>\n",
       "    </tr>\n",
       "    <tr>\n",
       "      <th>4</th>\n",
       "      <td>33987a8ee5</td>\n",
       "      <td>http://twitpic.com/4w75p - I like it!!</td>\n",
       "      <td>positive</td>\n",
       "      <td>noon</td>\n",
       "      <td>60-70</td>\n",
       "      <td>Angola</td>\n",
       "      <td>32866272.0</td>\n",
       "      <td>1246700.0</td>\n",
       "      <td>26.0</td>\n",
       "    </tr>\n",
       "  </tbody>\n",
       "</table>\n",
       "</div>"
      ],
      "text/plain": [
       "       textID                                               text sentiment  \\\n",
       "0  f87dea47db  Last session of the day  http://twitpic.com/67ezh   neutral   \n",
       "1  96d74cb729   Shanghai is also really exciting (precisely -...  positive   \n",
       "2  eee518ae67  Recession hit Veronique Branquinho, she has to...  negative   \n",
       "3  01082688c6                                        happy bday!  positive   \n",
       "4  33987a8ee5             http://twitpic.com/4w75p - I like it!!  positive   \n",
       "\n",
       "  Time of Tweet Age of User      Country  Population -2020  Land Area (Km²)  \\\n",
       "0       morning        0-20  Afghanistan        38928346.0         652860.0   \n",
       "1          noon       21-30      Albania         2877797.0          27400.0   \n",
       "2         night       31-45      Algeria        43851044.0        2381740.0   \n",
       "3       morning       46-60      Andorra           77265.0            470.0   \n",
       "4          noon       60-70       Angola        32866272.0        1246700.0   \n",
       "\n",
       "   Density (P/Km²)  \n",
       "0             60.0  \n",
       "1            105.0  \n",
       "2             18.0  \n",
       "3            164.0  \n",
       "4             26.0  "
      ]
     },
     "execution_count": 4,
     "metadata": {},
     "output_type": "execute_result"
    }
   ],
   "source": [
    "data.head()"
   ]
  },
  {
   "cell_type": "code",
   "execution_count": 5,
   "id": "7acf5632",
   "metadata": {},
   "outputs": [
    {
     "name": "stdout",
     "output_type": "stream",
     "text": [
      "<class 'pandas.core.frame.DataFrame'>\n",
      "RangeIndex: 4815 entries, 0 to 4814\n",
      "Data columns (total 9 columns):\n",
      " #   Column            Non-Null Count  Dtype  \n",
      "---  ------            --------------  -----  \n",
      " 0   textID            3534 non-null   object \n",
      " 1   text              3534 non-null   object \n",
      " 2   sentiment         3534 non-null   object \n",
      " 3   Time of Tweet     3534 non-null   object \n",
      " 4   Age of User       3534 non-null   object \n",
      " 5   Country           3534 non-null   object \n",
      " 6   Population -2020  3534 non-null   float64\n",
      " 7   Land Area (Km²)   3534 non-null   float64\n",
      " 8   Density (P/Km²)   3534 non-null   float64\n",
      "dtypes: float64(3), object(6)\n",
      "memory usage: 338.7+ KB\n"
     ]
    }
   ],
   "source": [
    "data.info()"
   ]
  },
  {
   "cell_type": "code",
   "execution_count": 6,
   "id": "c0a4b574",
   "metadata": {},
   "outputs": [
    {
     "data": {
      "text/html": [
       "<div>\n",
       "<style scoped>\n",
       "    .dataframe tbody tr th:only-of-type {\n",
       "        vertical-align: middle;\n",
       "    }\n",
       "\n",
       "    .dataframe tbody tr th {\n",
       "        vertical-align: top;\n",
       "    }\n",
       "\n",
       "    .dataframe thead th {\n",
       "        text-align: right;\n",
       "    }\n",
       "</style>\n",
       "<table border=\"1\" class=\"dataframe\">\n",
       "  <thead>\n",
       "    <tr style=\"text-align: right;\">\n",
       "      <th></th>\n",
       "      <th>Population -2020</th>\n",
       "      <th>Land Area (Km²)</th>\n",
       "      <th>Density (P/Km²)</th>\n",
       "    </tr>\n",
       "  </thead>\n",
       "  <tbody>\n",
       "    <tr>\n",
       "      <th>count</th>\n",
       "      <td>3.534000e+03</td>\n",
       "      <td>3.534000e+03</td>\n",
       "      <td>3534.000000</td>\n",
       "    </tr>\n",
       "    <tr>\n",
       "      <th>mean</th>\n",
       "      <td>3.941891e+07</td>\n",
       "      <td>6.722499e+05</td>\n",
       "      <td>348.894171</td>\n",
       "    </tr>\n",
       "    <tr>\n",
       "      <th>std</th>\n",
       "      <td>1.468757e+08</td>\n",
       "      <td>1.839134e+06</td>\n",
       "      <td>1967.012367</td>\n",
       "    </tr>\n",
       "    <tr>\n",
       "      <th>min</th>\n",
       "      <td>8.010000e+02</td>\n",
       "      <td>0.000000e+00</td>\n",
       "      <td>2.000000</td>\n",
       "    </tr>\n",
       "    <tr>\n",
       "      <th>25%</th>\n",
       "      <td>1.968001e+06</td>\n",
       "      <td>2.281000e+04</td>\n",
       "      <td>35.000000</td>\n",
       "    </tr>\n",
       "    <tr>\n",
       "      <th>50%</th>\n",
       "      <td>8.696453e+06</td>\n",
       "      <td>1.127600e+05</td>\n",
       "      <td>87.000000</td>\n",
       "    </tr>\n",
       "    <tr>\n",
       "      <th>75%</th>\n",
       "      <td>2.843594e+07</td>\n",
       "      <td>5.279700e+05</td>\n",
       "      <td>214.000000</td>\n",
       "    </tr>\n",
       "    <tr>\n",
       "      <th>max</th>\n",
       "      <td>1.439324e+09</td>\n",
       "      <td>1.637687e+07</td>\n",
       "      <td>26337.000000</td>\n",
       "    </tr>\n",
       "  </tbody>\n",
       "</table>\n",
       "</div>"
      ],
      "text/plain": [
       "       Population -2020  Land Area (Km²)  Density (P/Km²)\n",
       "count      3.534000e+03     3.534000e+03      3534.000000\n",
       "mean       3.941891e+07     6.722499e+05       348.894171\n",
       "std        1.468757e+08     1.839134e+06      1967.012367\n",
       "min        8.010000e+02     0.000000e+00         2.000000\n",
       "25%        1.968001e+06     2.281000e+04        35.000000\n",
       "50%        8.696453e+06     1.127600e+05        87.000000\n",
       "75%        2.843594e+07     5.279700e+05       214.000000\n",
       "max        1.439324e+09     1.637687e+07     26337.000000"
      ]
     },
     "execution_count": 6,
     "metadata": {},
     "output_type": "execute_result"
    }
   ],
   "source": [
    "data.describe()"
   ]
  },
  {
   "cell_type": "code",
   "execution_count": 7,
   "id": "2eb6b17e",
   "metadata": {},
   "outputs": [
    {
     "data": {
      "text/plain": [
       "(4815, 9)"
      ]
     },
     "execution_count": 7,
     "metadata": {},
     "output_type": "execute_result"
    }
   ],
   "source": [
    "data.shape"
   ]
  },
  {
   "cell_type": "markdown",
   "id": "52a6f9cc",
   "metadata": {},
   "source": [
    "#### identifying key variables\n"
   ]
  },
  {
   "cell_type": "code",
   "execution_count": 8,
   "id": "2a77f851",
   "metadata": {},
   "outputs": [
    {
     "name": "stdout",
     "output_type": "stream",
     "text": [
      "Example Text Content:\n",
      "0    Last session of the day  http://twitpic.com/67ezh\n",
      "1     Shanghai is also really exciting (precisely -...\n",
      "2    Recession hit Veronique Branquinho, she has to...\n",
      "3                                          happy bday!\n",
      "4               http://twitpic.com/4w75p - I like it!!\n",
      "Name: text, dtype: object\n"
     ]
    }
   ],
   "source": [
    "# Identifying Text Content:\n",
    "# the text content is in a column named 'text'\n",
    "text_column = 'text'\n",
    "\n",
    "# Display some examples of the text content\n",
    "print(\"Example Text Content:\")\n",
    "print(data[text_column].head())\n"
   ]
  },
  {
   "cell_type": "code",
   "execution_count": 9,
   "id": "497a9d15",
   "metadata": {},
   "outputs": [
    {
     "name": "stdout",
     "output_type": "stream",
     "text": [
      "Unique Sentiment Labels:\n",
      "neutral     1430\n",
      "positive    1103\n",
      "negative    1001\n",
      "Name: sentiment, dtype: int64\n"
     ]
    }
   ],
   "source": [
    "# Identifying Sentiment Labels:\n",
    "# the sentiment labels are in a column named 'sentiment'\n",
    "sentiment_column = 'sentiment'\n",
    "\n",
    "# Display unique values and their counts for the sentiment labels\n",
    "print(\"Unique Sentiment Labels:\")\n",
    "print(data[sentiment_column].value_counts())\n"
   ]
  },
  {
   "cell_type": "markdown",
   "id": "67f33f45",
   "metadata": {},
   "source": [
    "#### checking for missing values"
   ]
  },
  {
   "cell_type": "code",
   "execution_count": 10,
   "id": "ab003888",
   "metadata": {},
   "outputs": [
    {
     "name": "stdout",
     "output_type": "stream",
     "text": [
      "Missing Values:\n",
      "textID              1281\n",
      "text                1281\n",
      "sentiment           1281\n",
      "Time of Tweet       1281\n",
      "Age of User         1281\n",
      "Country             1281\n",
      "Population -2020    1281\n",
      "Land Area (Km²)     1281\n",
      "Density (P/Km²)     1281\n",
      "dtype: int64\n"
     ]
    }
   ],
   "source": [
    "print(\"Missing Values:\")\n",
    "print(data.isnull().sum())\n"
   ]
  },
  {
   "cell_type": "markdown",
   "id": "906dec97",
   "metadata": {},
   "source": [
    "#### Explore Additional Features (if any):\n"
   ]
  },
  {
   "cell_type": "code",
   "execution_count": 11,
   "id": "5f985077",
   "metadata": {},
   "outputs": [
    {
     "name": "stdout",
     "output_type": "stream",
     "text": [
      "Additional Features:\n",
      "  Age of User      Country  Density (P/Km²)  Land Area (Km²)  \\\n",
      "0        0-20  Afghanistan             60.0         652860.0   \n",
      "1       21-30      Albania            105.0          27400.0   \n",
      "2       31-45      Algeria             18.0        2381740.0   \n",
      "3       46-60      Andorra            164.0            470.0   \n",
      "4       60-70       Angola             26.0        1246700.0   \n",
      "\n",
      "   Population -2020 Time of Tweet      textID  \n",
      "0        38928346.0       morning  f87dea47db  \n",
      "1         2877797.0          noon  96d74cb729  \n",
      "2        43851044.0         night  eee518ae67  \n",
      "3           77265.0       morning  01082688c6  \n",
      "4        32866272.0          noon  33987a8ee5  \n"
     ]
    }
   ],
   "source": [
    "# Explore additional features beyond text content and sentiment labels\n",
    "additional_features = data.columns.difference([text_column, sentiment_column])\n",
    "print(\"Additional Features:\")\n",
    "print(data[additional_features].head())\n"
   ]
  },
  {
   "cell_type": "markdown",
   "id": "7b54d3af",
   "metadata": {},
   "source": [
    "## 2.Data Preprocessing:"
   ]
  },
  {
   "cell_type": "code",
   "execution_count": 11,
   "id": "0f6f99bd",
   "metadata": {},
   "outputs": [
    {
     "name": "stderr",
     "output_type": "stream",
     "text": [
      "[nltk_data] Downloading package stopwords to\n",
      "[nltk_data]     C:\\Users\\mdipa\\AppData\\Roaming\\nltk_data...\n",
      "[nltk_data]   Package stopwords is already up-to-date!\n",
      "[nltk_data] Downloading package punkt to\n",
      "[nltk_data]     C:\\Users\\mdipa\\AppData\\Roaming\\nltk_data...\n",
      "[nltk_data]   Package punkt is already up-to-date!\n",
      "[nltk_data] Downloading package wordnet to\n",
      "[nltk_data]     C:\\Users\\mdipa\\AppData\\Roaming\\nltk_data...\n",
      "[nltk_data]   Package wordnet is already up-to-date!\n",
      "[nltk_data] Downloading package omw-1.4 to\n",
      "[nltk_data]     C:\\Users\\mdipa\\AppData\\Roaming\\nltk_data...\n",
      "[nltk_data]   Package omw-1.4 is already up-to-date!\n"
     ]
    },
    {
     "data": {
      "text/plain": [
       "True"
      ]
     },
     "execution_count": 11,
     "metadata": {},
     "output_type": "execute_result"
    }
   ],
   "source": [
    "# Download NLTK resources (only required for the first run)\n",
    "nltk.download('stopwords')\n",
    "nltk.download('punkt')\n",
    "nltk.download('wordnet')\n",
    "nltk.download('omw-1.4')"
   ]
  },
  {
   "cell_type": "code",
   "execution_count": 13,
   "id": "ffeb411a",
   "metadata": {},
   "outputs": [],
   "source": [
    "text_data = data['text']  # Assuming 'text' is the column containing text data\n"
   ]
  },
  {
   "cell_type": "code",
   "execution_count": 14,
   "id": "0589156b",
   "metadata": {},
   "outputs": [],
   "source": [
    "# Text Preprocessing Functions\n",
    "def preprocess_text(text):\n",
    "    # Check if the element is a string (text) or a float\n",
    "    if isinstance(text, str):\n",
    "        # Convert to lowercase\n",
    "        text = text.lower()\n",
    "    if isinstance(text, str):\n",
    "        # Remove punctuation\n",
    "        text = text.translate(str.maketrans(\"\", \"\", string.punctuation))\n",
    "        # Tokenization\n",
    "        tokens = word_tokenize(text)\n",
    "    \n",
    "        # Remove stop words\n",
    "        stop_words = set(stopwords.words('english'))\n",
    "        tokens = [token for token in tokens if token not in stop_words]\n",
    "    \n",
    "        # Lemmatization\n",
    "        lemmatizer = WordNetLemmatizer()\n",
    "        tokens = [lemmatizer.lemmatize(token) for token in tokens]\n",
    "    \n",
    "        # Rejoin tokens into a single string\n",
    "        processed_text = ' '.join(tokens)\n",
    "    \n",
    "        return processed_text"
   ]
  },
  {
   "cell_type": "code",
   "execution_count": 15,
   "id": "a3d9bbb8",
   "metadata": {},
   "outputs": [
    {
     "name": "stdout",
     "output_type": "stream",
     "text": [
      "Original Text:\n",
      "0    Last session of the day  http://twitpic.com/67ezh\n",
      "1     Shanghai is also really exciting (precisely -...\n",
      "2    Recession hit Veronique Branquinho, she has to...\n",
      "3                                          happy bday!\n",
      "4               http://twitpic.com/4w75p - I like it!!\n",
      "Name: text, dtype: object\n"
     ]
    }
   ],
   "source": [
    "# Apply preprocessing to each text in the dataset\n",
    "data['processed_text'] = text_data.apply(preprocess_text)\n",
    "\n",
    "# Display the result\n",
    "print(\"Original Text:\")\n",
    "print(text_data.head())"
   ]
  },
  {
   "cell_type": "code",
   "execution_count": 16,
   "id": "044d5679",
   "metadata": {},
   "outputs": [
    {
     "name": "stdout",
     "output_type": "stream",
     "text": [
      "\n",
      "Processed Text:\n",
      "0                 last session day httptwitpiccom67ezh\n",
      "1    shanghai also really exciting precisely skyscr...\n",
      "2    recession hit veronique branquinho quit compan...\n",
      "3                                           happy bday\n",
      "4                             httptwitpiccom4w75p like\n",
      "Name: processed_text, dtype: object\n"
     ]
    }
   ],
   "source": [
    "print(\"\\nProcessed Text:\")\n",
    "print(data['processed_text'].head())"
   ]
  },
  {
   "cell_type": "markdown",
   "id": "a68196cf",
   "metadata": {},
   "source": [
    "## 3. Exploratory Data Analysis (EDA):"
   ]
  },
  {
   "cell_type": "code",
   "execution_count": 45,
   "id": "1e90bc63",
   "metadata": {},
   "outputs": [
    {
     "data": {
      "image/png": "[encoded data removed]",
      "text/plain": [
       "<Figure size 800x600 with 1 Axes>"
      ]
     },
     "metadata": {},
     "output_type": "display_data"
    }
   ],
   "source": [
    "# Visualizing the distribution of sentiment labels using a countplot\n",
    "plt.figure(figsize=(8, 6))\n",
    "sns.countplot(x=sentiment_column, data=data)\n",
    "plt.title(\"Distribution of Sentiment Labels\")\n",
    "plt.xlabel(\"Sentiment Labels\")\n",
    "plt.ylabel(\"Count\")\n",
    "plt.show()"
   ]
  },
  {
   "cell_type": "code",
   "execution_count": 47,
   "id": "4f63351e",
   "metadata": {},
   "outputs": [
    {
     "data": {
      "image/png": "[encoded data removed]",
      "text/plain": [
       "<Figure size 800x800 with 1 Axes>"
      ]
     },
     "metadata": {},
     "output_type": "display_data"
    }
   ],
   "source": [
    "# Alternatively, visualizing the distribution using a pie chart\n",
    "sentiment_counts = data[sentiment_column].value_counts()\n",
    "plt.figure(figsize=(8, 8))\n",
    "plt.pie(sentiment_counts, labels=sentiment_counts.index, autopct='%1.1f%%', startangle=90)\n",
    "plt.title(\"Distribution of Sentiment Labels\")\n",
    "plt.show()"
   ]
  },
  {
   "cell_type": "markdown",
   "id": "a0bfde0c",
   "metadata": {},
   "source": [
    "## 4. Text Vectorization:"
   ]
  },
  {
   "cell_type": "markdown",
   "id": "daccba60",
   "metadata": {},
   "source": [
    "### TF-IDF Vectorization"
   ]
  },
  {
   "cell_type": "code",
   "execution_count": 17,
   "id": "8478526d",
   "metadata": {},
   "outputs": [],
   "source": [
    "# Assuming 'processed_text' is the column containing preprocessed text\n",
    "text_data = data['processed_text']"
   ]
  },
  {
   "cell_type": "code",
   "execution_count": 18,
   "id": "77fa5f5c",
   "metadata": {},
   "outputs": [],
   "source": [
    "#Handling Missing Values:\n",
    "data['processed_text'].fillna('', inplace=True)"
   ]
  },
  {
   "cell_type": "code",
   "execution_count": 19,
   "id": "424ef32b",
   "metadata": {},
   "outputs": [],
   "source": [
    "# Initializing the TF-IDF vectorizer\n",
    "tfidf_vectorizer = TfidfVectorizer(max_features=5000)  # Adjust max_features as needed"
   ]
  },
  {
   "cell_type": "code",
   "execution_count": 20,
   "id": "52c76179",
   "metadata": {},
   "outputs": [],
   "source": [
    "# Fit and transform the preprocessed text data\n",
    "tfidf_matrix = tfidf_vectorizer.fit_transform(text_data)"
   ]
  },
  {
   "cell_type": "code",
   "execution_count": 21,
   "id": "f5367c85",
   "metadata": {},
   "outputs": [],
   "source": [
    "# Converting the TF-IDF matrix to a DataFrame for inspection (optional)\n",
    "tfidf_df = pd.DataFrame(tfidf_matrix.toarray(), columns=tfidf_vectorizer.get_feature_names_out())"
   ]
  },
  {
   "cell_type": "code",
   "execution_count": 22,
   "id": "e6fe0229",
   "metadata": {},
   "outputs": [
    {
     "name": "stdout",
     "output_type": "stream",
     "text": [
      "TF-IDF Matrix:\n",
      "[[0. 0. 0. ... 0. 0. 0.]\n",
      " [0. 0. 0. ... 0. 0. 0.]\n",
      " [0. 0. 0. ... 0. 0. 0.]\n",
      " ...\n",
      " [0. 0. 0. ... 0. 0. 0.]\n",
      " [0. 0. 0. ... 0. 0. 0.]\n",
      " [0. 0. 0. ... 0. 0. 0.]]\n"
     ]
    }
   ],
   "source": [
    "# Display the TF-IDF matrix or DataFrame\n",
    "print(\"TF-IDF Matrix:\")\n",
    "print(tfidf_matrix.toarray())"
   ]
  },
  {
   "cell_type": "code",
   "execution_count": 23,
   "id": "80691c0c",
   "metadata": {},
   "outputs": [
    {
     "name": "stdout",
     "output_type": "stream",
     "text": [
      "TF-IDF DataFrame:\n",
      "   000   09   10  100  1030   11  1111   12  120  1215  ...   â½  â½50  \\\n",
      "0  0.0  0.0  0.0  0.0   0.0  0.0   0.0  0.0  0.0   0.0  ...  0.0   0.0   \n",
      "1  0.0  0.0  0.0  0.0   0.0  0.0   0.0  0.0  0.0   0.0  ...  0.0   0.0   \n",
      "2  0.0  0.0  0.0  0.0   0.0  0.0   0.0  0.0  0.0   0.0  ...  0.0   0.0   \n",
      "3  0.0  0.0  0.0  0.0   0.0  0.0   0.0  0.0  0.0   0.0  ...  0.0   0.0   \n",
      "4  0.0  0.0  0.0  0.0   0.0  0.0   0.0  0.0  0.0   0.0  ...  0.0   0.0   \n",
      "\n",
      "   â½91eachbut  â½al  â½m  â½n  â½nbye  â½s  â½t  â½tition  \n",
      "0          0.0   0.0  0.0  0.0     0.0  0.0  0.0       0.0  \n",
      "1          0.0   0.0  0.0  0.0     0.0  0.0  0.0       0.0  \n",
      "2          0.0   0.0  0.0  0.0     0.0  0.0  0.0       0.0  \n",
      "3          0.0   0.0  0.0  0.0     0.0  0.0  0.0       0.0  \n",
      "4          0.0   0.0  0.0  0.0     0.0  0.0  0.0       0.0  \n",
      "\n",
      "[5 rows x 5000 columns]\n"
     ]
    }
   ],
   "source": [
    "# If using a DataFrame:\n",
    "print(\"TF-IDF DataFrame:\")\n",
    "print(tfidf_df.head())"
   ]
  },
  {
   "cell_type": "markdown",
   "id": "5e06a428",
   "metadata": {},
   "source": [
    "## 5. Model Selection:"
   ]
  },
  {
   "cell_type": "code",
   "execution_count": 24,
   "id": "82d0fffa",
   "metadata": {},
   "outputs": [],
   "source": [
    "# Assuming 'processed_text' is the preprocessed text column and 'sentiment' is the target column\n",
    "X = data['processed_text']\n",
    "y = data['sentiment']\n",
    "# Handling missing values in 'processed_text'\n",
    "X.fillna('', inplace=True)\n",
    "y.fillna('', inplace=True)"
   ]
  },
  {
   "cell_type": "code",
   "execution_count": 25,
   "id": "5bf6dcc9",
   "metadata": {},
   "outputs": [],
   "source": [
    "# Splitting the data into training and testing sets\n",
    "X_train, X_test, y_train, y_test = train_test_split(X, y, test_size=0.2, random_state=42)\n",
    "label_encoder = LabelEncoder()\n",
    "y_train_numeric = label_encoder.fit_transform(y_train)\n",
    "y_test_numerical = label_encoder.fit_transform(y_test)\n"
   ]
  },
  {
   "cell_type": "code",
   "execution_count": 26,
   "id": "fe0a63d7",
   "metadata": {},
   "outputs": [
    {
     "name": "stdout",
     "output_type": "stream",
     "text": [
      "{'', 'positive', 'neutral', 'negative'}\n"
     ]
    }
   ],
   "source": [
    "#Checking for String Labels:\n",
    "print(set(y_train))\n"
   ]
  },
  {
   "cell_type": "code",
   "execution_count": 27,
   "id": "650fd210",
   "metadata": {},
   "outputs": [
    {
     "name": "stdout",
     "output_type": "stream",
     "text": [
      "{0, 1, 2, 3}\n"
     ]
    }
   ],
   "source": [
    "#Ensure Labels are Binary:\n",
    "print(set(y_train_numeric))\n"
   ]
  },
  {
   "cell_type": "code",
   "execution_count": 28,
   "id": "ba3c7e74",
   "metadata": {},
   "outputs": [],
   "source": [
    "# TF-IDF Vectorization\n",
    "tfidf_vectorizer = TfidfVectorizer(max_features=5000)\n",
    "X_train_tfidf = tfidf_vectorizer.fit_transform(X_train)\n",
    "X_test_tfidf = tfidf_vectorizer.transform(X_test)"
   ]
  },
  {
   "cell_type": "code",
   "execution_count": 29,
   "id": "6f459b2d",
   "metadata": {},
   "outputs": [],
   "source": [
    "# Naive Bayes Model\n",
    "nb_model = MultinomialNB()\n",
    "nb_model.fit(X_train_tfidf, y_train)\n",
    "nb_preds = nb_model.predict(X_test_tfidf)"
   ]
  },
  {
   "cell_type": "code",
   "execution_count": 30,
   "id": "4d3fc99d",
   "metadata": {},
   "outputs": [],
   "source": [
    "# Support Vector Machines (SVM) Model\n",
    "svm_model = SVC(kernel='linear')\n",
    "svm_model.fit(X_train_tfidf, y_train)\n",
    "svm_preds = svm_model.predict(X_test_tfidf)"
   ]
  },
  {
   "cell_type": "code",
   "execution_count": 31,
   "id": "cf617ec4",
   "metadata": {},
   "outputs": [
    {
     "name": "stdout",
     "output_type": "stream",
     "text": [
      "WARNING:tensorflow:From C:\\Users\\mdipa\\anaconda3\\lib\\site-packages\\keras\\src\\backend.py:873: The name tf.get_default_graph is deprecated. Please use tf.compat.v1.get_default_graph instead.\n",
      "\n",
      "WARNING:tensorflow:From C:\\Users\\mdipa\\anaconda3\\lib\\site-packages\\keras\\src\\optimizers\\__init__.py:309: The name tf.train.Optimizer is deprecated. Please use tf.compat.v1.train.Optimizer instead.\n",
      "\n"
     ]
    },
    {
     "name": "stderr",
     "output_type": "stream",
     "text": [
      "C:\\Users\\mdipa\\anaconda3\\lib\\site-packages\\tensorflow\\python\\data\\ops\\structured_function.py:258: UserWarning: Even though the `tf.config.experimental_run_functions_eagerly` option is set, this option does not apply to tf.data functions. To force eager execution of tf.data functions, please use `tf.data.experimental.enable_debug_mode()`.\n",
      "  warnings.warn(\n"
     ]
    },
    {
     "name": "stdout",
     "output_type": "stream",
     "text": [
      "31/31 [==============================] - 6s 197ms/step\n"
     ]
    }
   ],
   "source": [
    "# LSTM Model\n",
    "tf.config.run_functions_eagerly(True)\n",
    "max_words = 10000\n",
    "tokenizer = Tokenizer(num_words=max_words)\n",
    "tokenizer.fit_on_texts(X_train)\n",
    "X_train_seq = tokenizer.texts_to_sequences(X_train)\n",
    "X_test_seq = tokenizer.texts_to_sequences(X_test)\n",
    "\n",
    "max_sequence_length = 100\n",
    "X_train_pad = pad_sequences(X_train_seq, maxlen=max_sequence_length)\n",
    "X_test_pad = pad_sequences(X_test_seq, maxlen=max_sequence_length)\n",
    "\n",
    "lstm_model = Sequential()\n",
    "lstm_model.add(Embedding(max_words, 128, input_length=max_sequence_length))\n",
    "lstm_model.add(LSTM(100))\n",
    "lstm_model.add(Dense(1, activation='sigmoid'))\n",
    "lstm_model.compile(loss='binary_crossentropy', optimizer='adam', metrics=['accuracy'])\n",
    "\n",
    "# Assuming X_test_pad is the preprocessed and padded test data\n",
    "lstm_preds = lstm_model.predict(X_test_pad)\n",
    "\n",
    "# If your model outputs probabilities and you want to convert them to class labels (0 or 1):\n",
    "lstm_preds_classes = (lstm_preds > 0.5).astype(int)\n",
    "\n",
    "# Flatten if needed\n",
    "lstm_preds_classes = lstm_preds_classes.flatten()\n",
    "\n",
    "# Now, lstm_preds_classes contains the predicted labels for the test set\n"
   ]
  },
  {
   "cell_type": "code",
   "execution_count": 32,
   "id": "7b46b7d3",
   "metadata": {},
   "outputs": [],
   "source": [
    "# Evaluation Metrics\n",
    "def evaluate_model(y_true, y_pred, model_name):\n",
    "    accuracy = accuracy_score(y_true, y_pred)\n",
    "    precision = precision_score(y_true, y_pred, average='weighted')\n",
    "    recall = recall_score(y_true, y_pred, average='weighted')\n",
    "    f1 = f1_score(y_true, y_pred, average='weighted')\n",
    "    print(f\"Evaluation Metrics for {model_name}:\")\n",
    "    print(f\"Accuracy: {accuracy:.4f}\")\n",
    "    print(f\"Precision: {precision:.4f}\")\n",
    "    print(f\"Recall: {recall:.4f}\")\n",
    "    print(f\"F1 Score: {f1:.4f}\")\n",
    "    print()"
   ]
  },
  {
   "cell_type": "code",
   "execution_count": 33,
   "id": "281f82b2",
   "metadata": {},
   "outputs": [
    {
     "name": "stdout",
     "output_type": "stream",
     "text": [
      "Evaluation Metrics for Naive Bayes:\n",
      "Accuracy: 0.4081\n",
      "Precision: 0.4194\n",
      "Recall: 0.4081\n",
      "F1 Score: 0.3543\n",
      "\n"
     ]
    }
   ],
   "source": [
    "# Evaluate Naive Bayes Model\n",
    "evaluate_model(y_test, nb_preds, \"Naive Bayes\")"
   ]
  },
  {
   "cell_type": "code",
   "execution_count": 34,
   "id": "67e228c9",
   "metadata": {},
   "outputs": [
    {
     "name": "stdout",
     "output_type": "stream",
     "text": [
      "Evaluation Metrics for Support Vector Machines:\n",
      "Accuracy: 0.6916\n",
      "Precision: 0.6983\n",
      "Recall: 0.6916\n",
      "F1 Score: 0.6832\n",
      "\n"
     ]
    }
   ],
   "source": [
    "# Evaluate SVM Model\n",
    "evaluate_model(y_test, svm_preds, \"Support Vector Machines\")"
   ]
  },
  {
   "cell_type": "code",
   "execution_count": 35,
   "id": "215958b7",
   "metadata": {},
   "outputs": [
    {
     "name": "stdout",
     "output_type": "stream",
     "text": [
      "Evaluation Metrics for LSTM:\n",
      "Accuracy: 0.1433\n",
      "Precision: 0.0449\n",
      "Recall: 0.1433\n",
      "F1 Score: 0.0684\n",
      "\n"
     ]
    },
    {
     "name": "stderr",
     "output_type": "stream",
     "text": [
      "C:\\Users\\mdipa\\anaconda3\\lib\\site-packages\\sklearn\\metrics\\_classification.py:1344: UndefinedMetricWarning: Precision is ill-defined and being set to 0.0 in labels with no predicted samples. Use `zero_division` parameter to control this behavior.\n",
      "  _warn_prf(average, modifier, msg_start, len(result))\n"
     ]
    }
   ],
   "source": [
    "# Evaluate LSTM Model\n",
    "evaluate_model(y_test_numerical, lstm_preds_classes, \"LSTM\")"
   ]
  },
  {
   "cell_type": "markdown",
   "id": "1ced2f41",
   "metadata": {},
   "source": [
    "## 6.Hyperparameter Tuning:"
   ]
  },
  {
   "cell_type": "markdown",
   "id": "8ac12003",
   "metadata": {},
   "source": [
    "#### performing hyperparameter tuning for SVM model"
   ]
  },
  {
   "cell_type": "code",
   "execution_count": 36,
   "id": "ed583430",
   "metadata": {},
   "outputs": [],
   "source": [
    "# Creating a pipeline with a TF-IDF vectorizer and SVM classifier\n",
    "pipeline = make_pipeline(TfidfVectorizer(), SVC())\n"
   ]
  },
  {
   "cell_type": "code",
   "execution_count": 37,
   "id": "ee98ce4e",
   "metadata": {},
   "outputs": [],
   "source": [
    "# Defining the hyperparameters and their possible values\n",
    "param_grid = {\n",
    "    'tfidfvectorizer__ngram_range': [(1, 1), (1, 2)],  # unigrams or bigrams\n",
    "    'svc__C': [0.1, 1, 10],  # regularization parameter\n",
    "    'svc__kernel': ['linear', 'rbf']  # kernel type\n",
    "}"
   ]
  },
  {
   "cell_type": "code",
   "execution_count": 38,
   "id": "a0174d93",
   "metadata": {},
   "outputs": [],
   "source": [
    "# Creating the grid search object\n",
    "grid_search = GridSearchCV(pipeline, param_grid, cv=5, scoring='accuracy')\n"
   ]
  },
  {
   "cell_type": "code",
   "execution_count": 39,
   "id": "c7337c82",
   "metadata": {},
   "outputs": [
    {
     "data": {
      "text/html": [
       "<style>#sk-container-id-1 {color: black;background-color: white;}#sk-container-id-1 pre{padding: 0;}#sk-container-id-1 div.sk-toggleable {background-color: white;}#sk-container-id-1 label.sk-toggleable__label {cursor: pointer;display: block;width: 100%;margin-bottom: 0;padding: 0.3em;box-sizing: border-box;text-align: center;}#sk-container-id-1 label.sk-toggleable__label-arrow:before {content: \"▸\";float: left;margin-right: 0.25em;color: #696969;}#sk-container-id-1 label.sk-toggleable__label-arrow:hover:before {color: black;}#sk-container-id-1 div.sk-estimator:hover label.sk-toggleable__label-arrow:before {color: black;}#sk-container-id-1 div.sk-toggleable__content {max-height: 0;max-width: 0;overflow: hidden;text-align: left;background-color: #f0f8ff;}#sk-container-id-1 div.sk-toggleable__content pre {margin: 0.2em;color: black;border-radius: 0.25em;background-color: #f0f8ff;}#sk-container-id-1 input.sk-toggleable__control:checked~div.sk-toggleable__content {max-height: 200px;max-width: 100%;overflow: auto;}#sk-container-id-1 input.sk-toggleable__control:checked~label.sk-toggleable__label-arrow:before {content: \"▾\";}#sk-container-id-1 div.sk-estimator input.sk-toggleable__control:checked~label.sk-toggleable__label {background-color: #d4ebff;}#sk-container-id-1 div.sk-label input.sk-toggleable__control:checked~label.sk-toggleable__label {background-color: #d4ebff;}#sk-container-id-1 input.sk-hidden--visually {border: 0;clip: rect(1px 1px 1px 1px);clip: rect(1px, 1px, 1px, 1px);height: 1px;margin: -1px;overflow: hidden;padding: 0;position: absolute;width: 1px;}#sk-container-id-1 div.sk-estimator {font-family: monospace;background-color: #f0f8ff;border: 1px dotted black;border-radius: 0.25em;box-sizing: border-box;margin-bottom: 0.5em;}#sk-container-id-1 div.sk-estimator:hover {background-color: #d4ebff;}#sk-container-id-1 div.sk-parallel-item::after {content: \"\";width: 100%;border-bottom: 1px solid gray;flex-grow: 1;}#sk-container-id-1 div.sk-label:hover label.sk-toggleable__label {background-color: #d4ebff;}#sk-container-id-1 div.sk-serial::before {content: \"\";position: absolute;border-left: 1px solid gray;box-sizing: border-box;top: 0;bottom: 0;left: 50%;z-index: 0;}#sk-container-id-1 div.sk-serial {display: flex;flex-direction: column;align-items: center;background-color: white;padding-right: 0.2em;padding-left: 0.2em;position: relative;}#sk-container-id-1 div.sk-item {position: relative;z-index: 1;}#sk-container-id-1 div.sk-parallel {display: flex;align-items: stretch;justify-content: center;background-color: white;position: relative;}#sk-container-id-1 div.sk-item::before, #sk-container-id-1 div.sk-parallel-item::before {content: \"\";position: absolute;border-left: 1px solid gray;box-sizing: border-box;top: 0;bottom: 0;left: 50%;z-index: -1;}#sk-container-id-1 div.sk-parallel-item {display: flex;flex-direction: column;z-index: 1;position: relative;background-color: white;}#sk-container-id-1 div.sk-parallel-item:first-child::after {align-self: flex-end;width: 50%;}#sk-container-id-1 div.sk-parallel-item:last-child::after {align-self: flex-start;width: 50%;}#sk-container-id-1 div.sk-parallel-item:only-child::after {width: 0;}#sk-container-id-1 div.sk-dashed-wrapped {border: 1px dashed gray;margin: 0 0.4em 0.5em 0.4em;box-sizing: border-box;padding-bottom: 0.4em;background-color: white;}#sk-container-id-1 div.sk-label label {font-family: monospace;font-weight: bold;display: inline-block;line-height: 1.2em;}#sk-container-id-1 div.sk-label-container {text-align: center;}#sk-container-id-1 div.sk-container {/* jupyter's `normalize.less` sets `[hidden] { display: none; }` but bootstrap.min.css set `[hidden] { display: none !important; }` so we also need the `!important` here to be able to override the default hidden behavior on the sphinx rendered scikit-learn.org. See: https://github.com/scikit-learn/scikit-learn/issues/21755 */display: inline-block !important;position: relative;}#sk-container-id-1 div.sk-text-repr-fallback {display: none;}</style><div id=\"sk-container-id-1\" class=\"sk-top-container\"><div class=\"sk-text-repr-fallback\"><pre>GridSearchCV(cv=5,\n",
       "             estimator=Pipeline(steps=[(&#x27;tfidfvectorizer&#x27;, TfidfVectorizer()),\n",
       "                                       (&#x27;svc&#x27;, SVC())]),\n",
       "             param_grid={&#x27;svc__C&#x27;: [0.1, 1, 10],\n",
       "                         &#x27;svc__kernel&#x27;: [&#x27;linear&#x27;, &#x27;rbf&#x27;],\n",
       "                         &#x27;tfidfvectorizer__ngram_range&#x27;: [(1, 1), (1, 2)]},\n",
       "             scoring=&#x27;accuracy&#x27;)</pre><b>In a Jupyter environment, please rerun this cell to show the HTML representation or trust the notebook. <br />On GitHub, the HTML representation is unable to render, please try loading this page with nbviewer.org.</b></div><div class=\"sk-container\" hidden><div class=\"sk-item sk-dashed-wrapped\"><div class=\"sk-label-container\"><div class=\"sk-label sk-toggleable\"><input class=\"sk-toggleable__control sk-hidden--visually\" id=\"sk-estimator-id-1\" type=\"checkbox\" ><label for=\"sk-estimator-id-1\" class=\"sk-toggleable__label sk-toggleable__label-arrow\">GridSearchCV</label><div class=\"sk-toggleable__content\"><pre>GridSearchCV(cv=5,\n",
       "             estimator=Pipeline(steps=[(&#x27;tfidfvectorizer&#x27;, TfidfVectorizer()),\n",
       "                                       (&#x27;svc&#x27;, SVC())]),\n",
       "             param_grid={&#x27;svc__C&#x27;: [0.1, 1, 10],\n",
       "                         &#x27;svc__kernel&#x27;: [&#x27;linear&#x27;, &#x27;rbf&#x27;],\n",
       "                         &#x27;tfidfvectorizer__ngram_range&#x27;: [(1, 1), (1, 2)]},\n",
       "             scoring=&#x27;accuracy&#x27;)</pre></div></div></div><div class=\"sk-parallel\"><div class=\"sk-parallel-item\"><div class=\"sk-item\"><div class=\"sk-label-container\"><div class=\"sk-label sk-toggleable\"><input class=\"sk-toggleable__control sk-hidden--visually\" id=\"sk-estimator-id-2\" type=\"checkbox\" ><label for=\"sk-estimator-id-2\" class=\"sk-toggleable__label sk-toggleable__label-arrow\">estimator: Pipeline</label><div class=\"sk-toggleable__content\"><pre>Pipeline(steps=[(&#x27;tfidfvectorizer&#x27;, TfidfVectorizer()), (&#x27;svc&#x27;, SVC())])</pre></div></div></div><div class=\"sk-serial\"><div class=\"sk-item\"><div class=\"sk-serial\"><div class=\"sk-item\"><div class=\"sk-estimator sk-toggleable\"><input class=\"sk-toggleable__control sk-hidden--visually\" id=\"sk-estimator-id-3\" type=\"checkbox\" ><label for=\"sk-estimator-id-3\" class=\"sk-toggleable__label sk-toggleable__label-arrow\">TfidfVectorizer</label><div class=\"sk-toggleable__content\"><pre>TfidfVectorizer()</pre></div></div></div><div class=\"sk-item\"><div class=\"sk-estimator sk-toggleable\"><input class=\"sk-toggleable__control sk-hidden--visually\" id=\"sk-estimator-id-4\" type=\"checkbox\" ><label for=\"sk-estimator-id-4\" class=\"sk-toggleable__label sk-toggleable__label-arrow\">SVC</label><div class=\"sk-toggleable__content\"><pre>SVC()</pre></div></div></div></div></div></div></div></div></div></div></div></div>"
      ],
      "text/plain": [
       "GridSearchCV(cv=5,\n",
       "             estimator=Pipeline(steps=[('tfidfvectorizer', TfidfVectorizer()),\n",
       "                                       ('svc', SVC())]),\n",
       "             param_grid={'svc__C': [0.1, 1, 10],\n",
       "                         'svc__kernel': ['linear', 'rbf'],\n",
       "                         'tfidfvectorizer__ngram_range': [(1, 1), (1, 2)]},\n",
       "             scoring='accuracy')"
      ]
     },
     "execution_count": 39,
     "metadata": {},
     "output_type": "execute_result"
    }
   ],
   "source": [
    "# Fitting the grid search to the data\n",
    "grid_search.fit(X_train, y_train)"
   ]
  },
  {
   "cell_type": "code",
   "execution_count": 40,
   "id": "442f62aa",
   "metadata": {},
   "outputs": [
    {
     "name": "stdout",
     "output_type": "stream",
     "text": [
      "Best Hyperparameters: {'svc__C': 10, 'svc__kernel': 'rbf', 'tfidfvectorizer__ngram_range': (1, 2)}\n"
     ]
    }
   ],
   "source": [
    "# Printing the best hyperparameters\n",
    "print(\"Best Hyperparameters:\", grid_search.best_params_)\n"
   ]
  },
  {
   "cell_type": "code",
   "execution_count": 41,
   "id": "7b544f32",
   "metadata": {},
   "outputs": [
    {
     "name": "stdout",
     "output_type": "stream",
     "text": [
      "Test Accuracy: 0.7071651090342679\n"
     ]
    }
   ],
   "source": [
    "# Evaluating the model with the best hyperparameters on the test set\n",
    "accuracy = grid_search.best_estimator_.score(X_test, y_test)\n",
    "print(\"Test Accuracy:\", accuracy)"
   ]
  },
  {
   "cell_type": "markdown",
   "id": "fa7c1ee9",
   "metadata": {},
   "source": [
    "## 7. Cross-Validation:"
   ]
  },
  {
   "cell_type": "markdown",
   "id": "e1087ca2",
   "metadata": {},
   "source": [
    "#### performing k-fold cross-validation"
   ]
  },
  {
   "cell_type": "code",
   "execution_count": 40,
   "id": "d3982597",
   "metadata": {},
   "outputs": [],
   "source": [
    "# Creating a pipeline with a TF-IDF vectorizer and SVM classifier\n",
    "pipeline = make_pipeline(TfidfVectorizer(), SVC(C=1, kernel='linear'))"
   ]
  },
  {
   "cell_type": "code",
   "execution_count": 41,
   "id": "35c1ed0e",
   "metadata": {},
   "outputs": [],
   "source": [
    "# Defining the cross-validation strategy (Stratified K-Fold is suitable for classification tasks)\n",
    "cv = StratifiedKFold(n_splits=5, shuffle=True, random_state=42)"
   ]
  },
  {
   "cell_type": "code",
   "execution_count": 42,
   "id": "d3e4078a",
   "metadata": {},
   "outputs": [],
   "source": [
    "# Performing cross-validation and get accuracy scores\n",
    "cv_scores = cross_val_score(pipeline, X, y, cv=cv, scoring='accuracy')"
   ]
  },
  {
   "cell_type": "code",
   "execution_count": 43,
   "id": "dec8bc09",
   "metadata": {},
   "outputs": [
    {
     "name": "stdout",
     "output_type": "stream",
     "text": [
      "Cross-Validation Scores: [0.68120457 0.6780893  0.67601246 0.67705088 0.70716511]\n"
     ]
    }
   ],
   "source": [
    "# Printing the cross-validation scores\n",
    "print(\"Cross-Validation Scores:\", cv_scores)"
   ]
  },
  {
   "cell_type": "code",
   "execution_count": 44,
   "id": "854432a7",
   "metadata": {},
   "outputs": [
    {
     "name": "stdout",
     "output_type": "stream",
     "text": [
      "Mean Accuracy: 0.6839044652128765\n",
      "Standard Deviation: 0.011759408238331923\n"
     ]
    }
   ],
   "source": [
    "# Calculating and printing the mean and standard deviation of the scores\n",
    "print(\"Mean Accuracy:\", cv_scores.mean())\n",
    "print(\"Standard Deviation:\", cv_scores.std())"
   ]
  },
  {
   "cell_type": "markdown",
   "id": "5be1d99d",
   "metadata": {},
   "source": [
    "## 8. Model Interpretability:"
   ]
  },
  {
   "cell_type": "markdown",
   "id": "9a142c37",
   "metadata": {},
   "source": [
    "Feature Importance with SVM:"
   ]
  },
  {
   "cell_type": "code",
   "execution_count": 45,
   "id": "d688a38c",
   "metadata": {},
   "outputs": [
    {
     "data": {
      "text/html": [
       "<style>#sk-container-id-2 {color: black;background-color: white;}#sk-container-id-2 pre{padding: 0;}#sk-container-id-2 div.sk-toggleable {background-color: white;}#sk-container-id-2 label.sk-toggleable__label {cursor: pointer;display: block;width: 100%;margin-bottom: 0;padding: 0.3em;box-sizing: border-box;text-align: center;}#sk-container-id-2 label.sk-toggleable__label-arrow:before {content: \"▸\";float: left;margin-right: 0.25em;color: #696969;}#sk-container-id-2 label.sk-toggleable__label-arrow:hover:before {color: black;}#sk-container-id-2 div.sk-estimator:hover label.sk-toggleable__label-arrow:before {color: black;}#sk-container-id-2 div.sk-toggleable__content {max-height: 0;max-width: 0;overflow: hidden;text-align: left;background-color: #f0f8ff;}#sk-container-id-2 div.sk-toggleable__content pre {margin: 0.2em;color: black;border-radius: 0.25em;background-color: #f0f8ff;}#sk-container-id-2 input.sk-toggleable__control:checked~div.sk-toggleable__content {max-height: 200px;max-width: 100%;overflow: auto;}#sk-container-id-2 input.sk-toggleable__control:checked~label.sk-toggleable__label-arrow:before {content: \"▾\";}#sk-container-id-2 div.sk-estimator input.sk-toggleable__control:checked~label.sk-toggleable__label {background-color: #d4ebff;}#sk-container-id-2 div.sk-label input.sk-toggleable__control:checked~label.sk-toggleable__label {background-color: #d4ebff;}#sk-container-id-2 input.sk-hidden--visually {border: 0;clip: rect(1px 1px 1px 1px);clip: rect(1px, 1px, 1px, 1px);height: 1px;margin: -1px;overflow: hidden;padding: 0;position: absolute;width: 1px;}#sk-container-id-2 div.sk-estimator {font-family: monospace;background-color: #f0f8ff;border: 1px dotted black;border-radius: 0.25em;box-sizing: border-box;margin-bottom: 0.5em;}#sk-container-id-2 div.sk-estimator:hover {background-color: #d4ebff;}#sk-container-id-2 div.sk-parallel-item::after {content: \"\";width: 100%;border-bottom: 1px solid gray;flex-grow: 1;}#sk-container-id-2 div.sk-label:hover label.sk-toggleable__label {background-color: #d4ebff;}#sk-container-id-2 div.sk-serial::before {content: \"\";position: absolute;border-left: 1px solid gray;box-sizing: border-box;top: 0;bottom: 0;left: 50%;z-index: 0;}#sk-container-id-2 div.sk-serial {display: flex;flex-direction: column;align-items: center;background-color: white;padding-right: 0.2em;padding-left: 0.2em;position: relative;}#sk-container-id-2 div.sk-item {position: relative;z-index: 1;}#sk-container-id-2 div.sk-parallel {display: flex;align-items: stretch;justify-content: center;background-color: white;position: relative;}#sk-container-id-2 div.sk-item::before, #sk-container-id-2 div.sk-parallel-item::before {content: \"\";position: absolute;border-left: 1px solid gray;box-sizing: border-box;top: 0;bottom: 0;left: 50%;z-index: -1;}#sk-container-id-2 div.sk-parallel-item {display: flex;flex-direction: column;z-index: 1;position: relative;background-color: white;}#sk-container-id-2 div.sk-parallel-item:first-child::after {align-self: flex-end;width: 50%;}#sk-container-id-2 div.sk-parallel-item:last-child::after {align-self: flex-start;width: 50%;}#sk-container-id-2 div.sk-parallel-item:only-child::after {width: 0;}#sk-container-id-2 div.sk-dashed-wrapped {border: 1px dashed gray;margin: 0 0.4em 0.5em 0.4em;box-sizing: border-box;padding-bottom: 0.4em;background-color: white;}#sk-container-id-2 div.sk-label label {font-family: monospace;font-weight: bold;display: inline-block;line-height: 1.2em;}#sk-container-id-2 div.sk-label-container {text-align: center;}#sk-container-id-2 div.sk-container {/* jupyter's `normalize.less` sets `[hidden] { display: none; }` but bootstrap.min.css set `[hidden] { display: none !important; }` so we also need the `!important` here to be able to override the default hidden behavior on the sphinx rendered scikit-learn.org. See: https://github.com/scikit-learn/scikit-learn/issues/21755 */display: inline-block !important;position: relative;}#sk-container-id-2 div.sk-text-repr-fallback {display: none;}</style><div id=\"sk-container-id-2\" class=\"sk-top-container\"><div class=\"sk-text-repr-fallback\"><pre>Pipeline(steps=[(&#x27;tfidfvectorizer&#x27;, TfidfVectorizer()),\n",
       "                (&#x27;svc&#x27;, SVC(C=1, kernel=&#x27;linear&#x27;))])</pre><b>In a Jupyter environment, please rerun this cell to show the HTML representation or trust the notebook. <br />On GitHub, the HTML representation is unable to render, please try loading this page with nbviewer.org.</b></div><div class=\"sk-container\" hidden><div class=\"sk-item sk-dashed-wrapped\"><div class=\"sk-label-container\"><div class=\"sk-label sk-toggleable\"><input class=\"sk-toggleable__control sk-hidden--visually\" id=\"sk-estimator-id-5\" type=\"checkbox\" ><label for=\"sk-estimator-id-5\" class=\"sk-toggleable__label sk-toggleable__label-arrow\">Pipeline</label><div class=\"sk-toggleable__content\"><pre>Pipeline(steps=[(&#x27;tfidfvectorizer&#x27;, TfidfVectorizer()),\n",
       "                (&#x27;svc&#x27;, SVC(C=1, kernel=&#x27;linear&#x27;))])</pre></div></div></div><div class=\"sk-serial\"><div class=\"sk-item\"><div class=\"sk-estimator sk-toggleable\"><input class=\"sk-toggleable__control sk-hidden--visually\" id=\"sk-estimator-id-6\" type=\"checkbox\" ><label for=\"sk-estimator-id-6\" class=\"sk-toggleable__label sk-toggleable__label-arrow\">TfidfVectorizer</label><div class=\"sk-toggleable__content\"><pre>TfidfVectorizer()</pre></div></div></div><div class=\"sk-item\"><div class=\"sk-estimator sk-toggleable\"><input class=\"sk-toggleable__control sk-hidden--visually\" id=\"sk-estimator-id-7\" type=\"checkbox\" ><label for=\"sk-estimator-id-7\" class=\"sk-toggleable__label sk-toggleable__label-arrow\">SVC</label><div class=\"sk-toggleable__content\"><pre>SVC(C=1, kernel=&#x27;linear&#x27;)</pre></div></div></div></div></div></div></div>"
      ],
      "text/plain": [
       "Pipeline(steps=[('tfidfvectorizer', TfidfVectorizer()),\n",
       "                ('svc', SVC(C=1, kernel='linear'))])"
      ]
     },
     "execution_count": 45,
     "metadata": {},
     "output_type": "execute_result"
    }
   ],
   "source": [
    "pipeline.fit(X_train, y_train)"
   ]
  },
  {
   "cell_type": "code",
   "execution_count": 46,
   "id": "5e9e70d5",
   "metadata": {},
   "outputs": [],
   "source": [
    "# Extracting feature names from TF-IDF vectorizer\n",
    "feature_names = pipeline.named_steps['tfidfvectorizer'].get_feature_names_out()"
   ]
  },
  {
   "cell_type": "code",
   "execution_count": 47,
   "id": "2ca20eed",
   "metadata": {},
   "outputs": [
    {
     "name": "stdout",
     "output_type": "stream",
     "text": [
      "Feature Coefficients: [ 0.          0.         -0.27888006 ... -0.29675142 -0.3739762\n",
      " -0.3739762 ]\n"
     ]
    }
   ],
   "source": [
    "# Getting the coefficients from the SVM model\n",
    "coefficients = pipeline.named_steps['svc'].coef_.toarray().flatten()\n",
    "\n",
    "# Printing or analyze the coefficients\n",
    "print(\"Feature Coefficients:\", coefficients)"
   ]
  },
  {
   "cell_type": "markdown",
   "id": "fb134c41",
   "metadata": {},
   "source": [
    "LIME (Local Interpretable Model-agnostic Explanations):"
   ]
  },
  {
   "cell_type": "code",
   "execution_count": 48,
   "id": "0488df42",
   "metadata": {},
   "outputs": [],
   "source": [
    "# Creating a LIME explainer\n",
    "explainer = LimeTextExplainer()\n",
    "\n",
    "# Choosing a sample text for explanation\n",
    "sample_text = X_test.iloc[0]\n",
    "\n",
    "# Assuming your sample_text is in sparse format\n",
    "sample_text_sparse = tfidf_vectorizer.transform([sample_text])\n",
    "\n",
    "# Converting sparse input to dense format if needed\n",
    "if issparse(sample_text_sparse):\n",
    "    sample_text_dense = sample_text_sparse.toarray()\n",
    "else:\n",
    "    sample_text_dense = sample_text_sparse"
   ]
  },
  {
   "cell_type": "markdown",
   "id": "06047546",
   "metadata": {},
   "source": [
    "## 9. Evaluation Metrics:"
   ]
  },
  {
   "cell_type": "markdown",
   "id": "606a9eb4",
   "metadata": {},
   "source": [
    "#### Confusion Matrix:"
   ]
  },
  {
   "cell_type": "code",
   "execution_count": 90,
   "id": "1695d1d8",
   "metadata": {},
   "outputs": [],
   "source": [
    "cm = confusion_matrix(y_test, svm_preds)\n"
   ]
  },
  {
   "cell_type": "code",
   "execution_count": 91,
   "id": "44d79d87",
   "metadata": {},
   "outputs": [
    {
     "data": {
      "image/png": "[encoded data removed]",
      "text/plain": [
       "<Figure size 640x480 with 2 Axes>"
      ]
     },
     "metadata": {},
     "output_type": "display_data"
    }
   ],
   "source": [
    "# Plotting the confusion matrix\n",
    "sns.heatmap(cm, annot=True, fmt='d', cmap='Blues', annot_kws={\"size\": 16})\n",
    "plt.xlabel('Predicted')\n",
    "plt.ylabel('Actual')\n",
    "plt.show()"
   ]
  },
  {
   "cell_type": "markdown",
   "id": "b3eaa0f9",
   "metadata": {},
   "source": [
    "#### Classification Report:"
   ]
  },
  {
   "cell_type": "code",
   "execution_count": 49,
   "id": "e6785244",
   "metadata": {},
   "outputs": [
    {
     "name": "stdout",
     "output_type": "stream",
     "text": [
      "              precision    recall  f1-score   support\n",
      "\n",
      "                   0.81      1.00      0.90       258\n",
      "    negative       0.74      0.47      0.57       226\n",
      "     neutral       0.53      0.63      0.57       268\n",
      "    positive       0.73      0.64      0.68       211\n",
      "\n",
      "    accuracy                           0.69       963\n",
      "   macro avg       0.70      0.68      0.68       963\n",
      "weighted avg       0.70      0.69      0.68       963\n",
      "\n"
     ]
    }
   ],
   "source": [
    "# Print the classification report\n",
    "print(classification_report(y_test, svm_preds))"
   ]
  },
  {
   "cell_type": "markdown",
   "id": "0fc37b63",
   "metadata": {},
   "source": [
    "#### Precision-Recall Curve:"
   ]
  },
  {
   "cell_type": "code",
   "execution_count": 55,
   "id": "484d1816",
   "metadata": {},
   "outputs": [],
   "source": [
    "from sklearn.multiclass import OneVsRestClassifier\n"
   ]
  },
  {
   "cell_type": "code",
   "execution_count": 56,
   "id": "6d60fd85",
   "metadata": {},
   "outputs": [],
   "source": [
    "# Assuming you have your data and labels (X, y) and you split them into training and test sets\n",
    "X_train, X_test, y_train, y_test = train_test_split(X, y, test_size=0.2, random_state=42)\n"
   ]
  },
  {
   "cell_type": "code",
   "execution_count": 57,
   "id": "65c03d94",
   "metadata": {},
   "outputs": [
    {
     "data": {
      "text/html": [
       "<style>#sk-container-id-3 {color: black;background-color: white;}#sk-container-id-3 pre{padding: 0;}#sk-container-id-3 div.sk-toggleable {background-color: white;}#sk-container-id-3 label.sk-toggleable__label {cursor: pointer;display: block;width: 100%;margin-bottom: 0;padding: 0.3em;box-sizing: border-box;text-align: center;}#sk-container-id-3 label.sk-toggleable__label-arrow:before {content: \"▸\";float: left;margin-right: 0.25em;color: #696969;}#sk-container-id-3 label.sk-toggleable__label-arrow:hover:before {color: black;}#sk-container-id-3 div.sk-estimator:hover label.sk-toggleable__label-arrow:before {color: black;}#sk-container-id-3 div.sk-toggleable__content {max-height: 0;max-width: 0;overflow: hidden;text-align: left;background-color: #f0f8ff;}#sk-container-id-3 div.sk-toggleable__content pre {margin: 0.2em;color: black;border-radius: 0.25em;background-color: #f0f8ff;}#sk-container-id-3 input.sk-toggleable__control:checked~div.sk-toggleable__content {max-height: 200px;max-width: 100%;overflow: auto;}#sk-container-id-3 input.sk-toggleable__control:checked~label.sk-toggleable__label-arrow:before {content: \"▾\";}#sk-container-id-3 div.sk-estimator input.sk-toggleable__control:checked~label.sk-toggleable__label {background-color: #d4ebff;}#sk-container-id-3 div.sk-label input.sk-toggleable__control:checked~label.sk-toggleable__label {background-color: #d4ebff;}#sk-container-id-3 input.sk-hidden--visually {border: 0;clip: rect(1px 1px 1px 1px);clip: rect(1px, 1px, 1px, 1px);height: 1px;margin: -1px;overflow: hidden;padding: 0;position: absolute;width: 1px;}#sk-container-id-3 div.sk-estimator {font-family: monospace;background-color: #f0f8ff;border: 1px dotted black;border-radius: 0.25em;box-sizing: border-box;margin-bottom: 0.5em;}#sk-container-id-3 div.sk-estimator:hover {background-color: #d4ebff;}#sk-container-id-3 div.sk-parallel-item::after {content: \"\";width: 100%;border-bottom: 1px solid gray;flex-grow: 1;}#sk-container-id-3 div.sk-label:hover label.sk-toggleable__label {background-color: #d4ebff;}#sk-container-id-3 div.sk-serial::before {content: \"\";position: absolute;border-left: 1px solid gray;box-sizing: border-box;top: 0;bottom: 0;left: 50%;z-index: 0;}#sk-container-id-3 div.sk-serial {display: flex;flex-direction: column;align-items: center;background-color: white;padding-right: 0.2em;padding-left: 0.2em;position: relative;}#sk-container-id-3 div.sk-item {position: relative;z-index: 1;}#sk-container-id-3 div.sk-parallel {display: flex;align-items: stretch;justify-content: center;background-color: white;position: relative;}#sk-container-id-3 div.sk-item::before, #sk-container-id-3 div.sk-parallel-item::before {content: \"\";position: absolute;border-left: 1px solid gray;box-sizing: border-box;top: 0;bottom: 0;left: 50%;z-index: -1;}#sk-container-id-3 div.sk-parallel-item {display: flex;flex-direction: column;z-index: 1;position: relative;background-color: white;}#sk-container-id-3 div.sk-parallel-item:first-child::after {align-self: flex-end;width: 50%;}#sk-container-id-3 div.sk-parallel-item:last-child::after {align-self: flex-start;width: 50%;}#sk-container-id-3 div.sk-parallel-item:only-child::after {width: 0;}#sk-container-id-3 div.sk-dashed-wrapped {border: 1px dashed gray;margin: 0 0.4em 0.5em 0.4em;box-sizing: border-box;padding-bottom: 0.4em;background-color: white;}#sk-container-id-3 div.sk-label label {font-family: monospace;font-weight: bold;display: inline-block;line-height: 1.2em;}#sk-container-id-3 div.sk-label-container {text-align: center;}#sk-container-id-3 div.sk-container {/* jupyter's `normalize.less` sets `[hidden] { display: none; }` but bootstrap.min.css set `[hidden] { display: none !important; }` so we also need the `!important` here to be able to override the default hidden behavior on the sphinx rendered scikit-learn.org. See: https://github.com/scikit-learn/scikit-learn/issues/21755 */display: inline-block !important;position: relative;}#sk-container-id-3 div.sk-text-repr-fallback {display: none;}</style><div id=\"sk-container-id-3\" class=\"sk-top-container\"><div class=\"sk-text-repr-fallback\"><pre>OneVsRestClassifier(estimator=SVC(kernel=&#x27;linear&#x27;))</pre><b>In a Jupyter environment, please rerun this cell to show the HTML representation or trust the notebook. <br />On GitHub, the HTML representation is unable to render, please try loading this page with nbviewer.org.</b></div><div class=\"sk-container\" hidden><div class=\"sk-item sk-dashed-wrapped\"><div class=\"sk-label-container\"><div class=\"sk-label sk-toggleable\"><input class=\"sk-toggleable__control sk-hidden--visually\" id=\"sk-estimator-id-8\" type=\"checkbox\" ><label for=\"sk-estimator-id-8\" class=\"sk-toggleable__label sk-toggleable__label-arrow\">OneVsRestClassifier</label><div class=\"sk-toggleable__content\"><pre>OneVsRestClassifier(estimator=SVC(kernel=&#x27;linear&#x27;))</pre></div></div></div><div class=\"sk-parallel\"><div class=\"sk-parallel-item\"><div class=\"sk-item\"><div class=\"sk-label-container\"><div class=\"sk-label sk-toggleable\"><input class=\"sk-toggleable__control sk-hidden--visually\" id=\"sk-estimator-id-9\" type=\"checkbox\" ><label for=\"sk-estimator-id-9\" class=\"sk-toggleable__label sk-toggleable__label-arrow\">estimator: SVC</label><div class=\"sk-toggleable__content\"><pre>SVC(kernel=&#x27;linear&#x27;)</pre></div></div></div><div class=\"sk-serial\"><div class=\"sk-item\"><div class=\"sk-estimator sk-toggleable\"><input class=\"sk-toggleable__control sk-hidden--visually\" id=\"sk-estimator-id-10\" type=\"checkbox\" ><label for=\"sk-estimator-id-10\" class=\"sk-toggleable__label sk-toggleable__label-arrow\">SVC</label><div class=\"sk-toggleable__content\"><pre>SVC(kernel=&#x27;linear&#x27;)</pre></div></div></div></div></div></div></div></div></div></div>"
      ],
      "text/plain": [
       "OneVsRestClassifier(estimator=SVC(kernel='linear'))"
      ]
     },
     "execution_count": 57,
     "metadata": {},
     "output_type": "execute_result"
    }
   ],
   "source": [
    "# Assuming you have already trained your SVM model (svm_model)\n",
    "svm_model = SVC(kernel='linear')\n",
    "classifier = OneVsRestClassifier(svm_model)\n",
    "classifier.fit(X_train_tfidf, y_train)"
   ]
  },
  {
   "cell_type": "code",
   "execution_count": 58,
   "id": "ee0cf5d2",
   "metadata": {},
   "outputs": [],
   "source": [
    "# Predicting probabilities for each class using decision_function or predict_proba\n",
    "y_scores = classifier.decision_function(X_test_tfidf)"
   ]
  },
  {
   "cell_type": "code",
   "execution_count": 60,
   "id": "092f37e3",
   "metadata": {},
   "outputs": [],
   "source": [
    "# Binarize the labels for precision-recall curve\n",
    "y_test_bin = label_binarize(y_test, classes=list(range(3)))  "
   ]
  },
  {
   "cell_type": "code",
   "execution_count": 61,
   "id": "b6f90d48",
   "metadata": {},
   "outputs": [],
   "source": [
    "# Precision-Recall Curve\n",
    "precision = dict()\n",
    "recall = dict()\n",
    "area_under_curve_pr = dict()"
   ]
  },
  {
   "cell_type": "code",
   "execution_count": 63,
   "id": "2728dfbd",
   "metadata": {},
   "outputs": [
    {
     "name": "stderr",
     "output_type": "stream",
     "text": [
      "C:\\Users\\mdipa\\anaconda3\\lib\\site-packages\\sklearn\\metrics\\_ranking.py:891: UserWarning: No positive class found in y_true, recall is set to one for all thresholds.\n",
      "  warnings.warn(\n",
      "C:\\Users\\mdipa\\anaconda3\\lib\\site-packages\\sklearn\\metrics\\_ranking.py:891: UserWarning: No positive class found in y_true, recall is set to one for all thresholds.\n",
      "  warnings.warn(\n",
      "C:\\Users\\mdipa\\anaconda3\\lib\\site-packages\\sklearn\\metrics\\_ranking.py:891: UserWarning: No positive class found in y_true, recall is set to one for all thresholds.\n",
      "  warnings.warn(\n"
     ]
    }
   ],
   "source": [
    "for i in range(3):\n",
    "    precision[i], recall[i], _ = precision_recall_curve(y_test_bin[:, i], y_scores[:, i])\n",
    "    area_under_curve_pr[i] = auc(recall[i], precision[i])"
   ]
  },
  {
   "cell_type": "code",
   "execution_count": 66,
   "id": "d95c3758",
   "metadata": {},
   "outputs": [
    {
     "data": {
      "image/png": "[encoded data removed]",
      "text/plain": [
       "<Figure size 800x600 with 1 Axes>"
      ]
     },
     "metadata": {},
     "output_type": "display_data"
    }
   ],
   "source": [
    "# Plotting Precision-Recall Curves\n",
    "plt.figure(figsize=(8, 6))\n",
    "for i in range(3):\n",
    "    plt.plot(recall[i], precision[i], lw=2, label=f'Class {i} (AUC = {area_under_curve_pr[i]:.2f})')\n",
    "\n",
    "plt.xlabel('Recall')\n",
    "plt.ylabel('Precision')\n",
    "plt.title('Precision-Recall Curve for Multiclass SVM')\n",
    "plt.legend(loc='best')\n",
    "plt.show()"
   ]
  },
  {
   "cell_type": "markdown",
   "id": "eb5e284b",
   "metadata": {},
   "source": [
    "## 10. Documentation:"
   ]
  },
  {
   "cell_type": "markdown",
   "id": "66e811cf",
   "metadata": {},
   "source": [
    "### 1. Introduction"
   ]
  },
  {
   "cell_type": "markdown",
   "id": "83474167",
   "metadata": {},
   "source": [
    "The dataset utilized for this project is sourced from Kaggle. It consists of a\n",
    "collection of text samples labeled with sentiments. The sentiments are \n",
    "categorized as positive, negative,or neutral."
   ]
  },
  {
   "cell_type": "markdown",
   "id": "061d65d5",
   "metadata": {},
   "source": [
    "### 2. Data Preprocessing"
   ]
  },
  {
   "cell_type": "markdown",
   "id": "802d13cb",
   "metadata": {},
   "source": [
    "The data preprocessing steps include cleaning, tokenization, and vectorization.\n"
   ]
  },
  {
   "cell_type": "code",
   "execution_count": 85,
   "id": "d9c7ec75",
   "metadata": {},
   "outputs": [],
   "source": [
    "## Sample Data Preprocessing Code\n",
    "from nltk.corpus import stopwords\n",
    "from sklearn.model_selection import train_test_split\n",
    "from sklearn.feature_extraction.text import TfidfVectorizer\n",
    "\n",
    "## Load and clean the data\n",
    "## Tokenize the text\n",
    "## Remove stopwords\n",
    "## Vectorize text using TF-IDF\n",
    "## Split the data into training and testing sets"
   ]
  },
  {
   "cell_type": "markdown",
   "id": "26d4ca57",
   "metadata": {},
   "source": [
    "### 3. Model Development"
   ]
  },
  {
   "cell_type": "code",
   "execution_count": 86,
   "id": "29652e2e",
   "metadata": {},
   "outputs": [],
   "source": [
    "# Sample Model Development Code\n",
    "from sklearn.model_selection import train_test_split\n",
    "from sklearn.svm import SVC\n",
    "\n",
    "# All 3 models have been shown but after that the rest of the taskhas been done on svm model\n",
    "# Define SVM model\n",
    "# Compile the model\n",
    "# Print model summary\n"
   ]
  },
  {
   "cell_type": "markdown",
   "id": "069e991a",
   "metadata": {},
   "source": [
    "### 4. Model Training"
   ]
  },
  {
   "cell_type": "markdown",
   "id": "ed30db4c",
   "metadata": {},
   "source": [
    "The SVM model is trained on the preprocessed data."
   ]
  },
  {
   "cell_type": "code",
   "execution_count": 87,
   "id": "a6b3a15b",
   "metadata": {},
   "outputs": [],
   "source": [
    "# Sample Model Training Code\n",
    "# Train the SVM model"
   ]
  },
  {
   "cell_type": "markdown",
   "id": "449c5210",
   "metadata": {},
   "source": [
    "## 5. Hyperparameter Tuning"
   ]
  },
  {
   "cell_type": "markdown",
   "id": "c5601b1a",
   "metadata": {},
   "source": [
    "Fine-tune hyperparameters using techniques like grid search\n"
   ]
  },
  {
   "cell_type": "code",
   "execution_count": 88,
   "id": "c95a2a48",
   "metadata": {},
   "outputs": [],
   "source": [
    "# Sample Hyperparameter Tuning Code\n",
    "from sklearn.model_selection import GridSearchCV\n",
    "\n",
    "# Perform grid search for LSTM model\n"
   ]
  },
  {
   "cell_type": "markdown",
   "id": "d8a5bce8",
   "metadata": {},
   "source": [
    "## 6.Cross-Validation"
   ]
  },
  {
   "cell_type": "markdown",
   "id": "e3b0cba9",
   "metadata": {},
   "source": [
    "K-Fold Cross-Validation is implemented to assess model generalization."
   ]
  },
  {
   "cell_type": "code",
   "execution_count": 89,
   "id": "cd3bb9ba",
   "metadata": {},
   "outputs": [],
   "source": [
    "# Sample Cross-Validation Code\n",
    "from sklearn.model_selection import cross_val_score\n",
    "\n",
    "# K-Fold Cross-Validation for LSTM model\n"
   ]
  },
  {
   "cell_type": "markdown",
   "id": "a60f7f54",
   "metadata": {},
   "source": [
    "## 7.Model Interpretability"
   ]
  },
  {
   "cell_type": "markdown",
   "id": "259e4f2c",
   "metadata": {},
   "source": [
    "The model's predictions are interpreted using techniques like LIME."
   ]
  },
  {
   "cell_type": "code",
   "execution_count": 93,
   "id": "eb894263",
   "metadata": {},
   "outputs": [],
   "source": [
    "# Sample Model Interpretability Code\n",
    "# LIME explanation for LSTM model predictions\n"
   ]
  },
  {
   "cell_type": "markdown",
   "id": "b6edf05a",
   "metadata": {},
   "source": [
    "## 8.Evaluation Metrics"
   ]
  },
  {
   "cell_type": "markdown",
   "id": "cb4e04f1",
   "metadata": {},
   "source": [
    "The model's performance is evaluated using relevant metrics like confusion matrix"
   ]
  },
  {
   "cell_type": "code",
   "execution_count": 91,
   "id": "e9f6f71a",
   "metadata": {},
   "outputs": [],
   "source": [
    "# Sample Evaluation Metrics Code\n",
    "from sklearn.metrics import accuracy_score, confusion_matrix, classification_report\n",
    "\n",
    "# Evaluate the LSTM model\n"
   ]
  },
  {
   "cell_type": "markdown",
   "id": "bc12d8bd",
   "metadata": {},
   "source": [
    "## 9.ROC-AUC and Precision-Recall Curves"
   ]
  },
  {
   "cell_type": "markdown",
   "id": "1db1e62c",
   "metadata": {},
   "source": [
    " ROC-AUC and Precision-Recall curves are included"
   ]
  },
  {
   "cell_type": "code",
   "execution_count": 92,
   "id": "a46adc41",
   "metadata": {},
   "outputs": [],
   "source": [
    "# Sample ROC-AUC and Precision-Recall Code\n",
    "from sklearn.metrics import roc_curve, auc, precision_recall_curve\n",
    "\n",
    "# Plot ROC-AUC and Precision-Recall curves\n"
   ]
  },
  {
   "cell_type": "markdown",
   "id": "202cccfa",
   "metadata": {},
   "source": [
    "## 10. Conclusion"
   ]
  },
  {
   "cell_type": "markdown",
   "id": "23804c62",
   "metadata": {},
   "source": [
    "This project seeks to provide insights into sentiment analysis and demonstrate the application of machine learning techniques in classifying text sentiments."
   ]
  },
  {
   "cell_type": "code",
   "execution_count": null,
   "id": "af47e1a6",
   "metadata": {},
   "outputs": [],
   "source": []
  }
 ],
 "metadata": {
  "kernelspec": {
   "display_name": "Python 3 (ipykernel)",
   "language": "python",
   "name": "python3"
  },
  "language_info": {
   "codemirror_mode": {
    "name": "ipython",
    "version": 3
   },
   "file_extension": ".py",
   "mimetype": "text/x-python",
   "name": "python",
   "nbconvert_exporter": "python",
   "pygments_lexer": "ipython3",
   "version": "3.10.9"
  }
 },
 "nbformat": 4,
 "nbformat_minor": 5
}
